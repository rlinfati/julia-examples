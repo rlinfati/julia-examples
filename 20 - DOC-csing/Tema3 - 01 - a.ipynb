{
 "cells": [
  {
   "cell_type": "code",
   "execution_count": null,
   "id": "7a29b0d0",
   "metadata": {},
   "outputs": [],
   "source": [
    "# ] add Distributions"
   ]
  },
  {
   "cell_type": "code",
   "execution_count": null,
   "id": "aee1cb7c",
   "metadata": {},
   "outputs": [],
   "source": [
    "using Distributions\n",
    "using Plots"
   ]
  },
  {
   "cell_type": "code",
   "execution_count": null,
   "id": "8fec3dcc",
   "metadata": {},
   "outputs": [],
   "source": [
    "d = Normal(0.0, 1.0)"
   ]
  },
  {
   "cell_type": "code",
   "execution_count": null,
   "id": "48e6f3fd",
   "metadata": {
    "scrolled": true
   },
   "outputs": [],
   "source": [
    "x = rand(d, 100_000)"
   ]
  },
  {
   "cell_type": "code",
   "execution_count": null,
   "id": "854d5a2b",
   "metadata": {},
   "outputs": [],
   "source": [
    "@show mean(x)\n",
    "@show std(x)\n",
    "@show var(x)\n",
    "plot(x, seriestype=:scatterhist)"
   ]
  },
  {
   "cell_type": "code",
   "execution_count": null,
   "id": "b26be332",
   "metadata": {},
   "outputs": [],
   "source": [
    "d = Exponential()"
   ]
  },
  {
   "cell_type": "code",
   "execution_count": null,
   "id": "41e9533f",
   "metadata": {},
   "outputs": [],
   "source": [
    "x = rand(d, 100_000)\n",
    "@show mean(x)\n",
    "@show std(x)\n",
    "@show var(x)\n",
    "plot(x, seriestype=:scatterhist)"
   ]
  },
  {
   "cell_type": "code",
   "execution_count": null,
   "id": "2067c62a",
   "metadata": {},
   "outputs": [],
   "source": [
    "d = Poisson()"
   ]
  },
  {
   "cell_type": "code",
   "execution_count": null,
   "id": "c8a8615b",
   "metadata": {},
   "outputs": [],
   "source": [
    "x = rand(d, 100_000)\n",
    "@show mean(x)\n",
    "@show std(x)\n",
    "@show var(x)\n",
    "plot(x, seriestype=:scatterhist)"
   ]
  },
  {
   "cell_type": "code",
   "execution_count": null,
   "id": "24ffaaee",
   "metadata": {},
   "outputs": [],
   "source": []
  }
 ],
 "metadata": {
  "kernelspec": {
   "display_name": "Julia 1.6.1",
   "language": "julia",
   "name": "julia-1.6"
  },
  "language_info": {
   "file_extension": ".jl",
   "mimetype": "application/julia",
   "name": "julia",
   "version": "1.6.1"
  }
 },
 "nbformat": 4,
 "nbformat_minor": 5
}
