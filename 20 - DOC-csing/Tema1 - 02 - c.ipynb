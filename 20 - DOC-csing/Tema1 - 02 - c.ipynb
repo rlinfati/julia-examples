{
 "cells": [
  {
   "cell_type": "code",
   "execution_count": null,
   "id": "b9e76fed",
   "metadata": {},
   "outputs": [],
   "source": [
    "function m1(A, B, n)\n",
    "    return A*B\n",
    "end"
   ]
  },
  {
   "cell_type": "code",
   "execution_count": null,
   "id": "be830618",
   "metadata": {},
   "outputs": [],
   "source": [
    "function m2(A, B, n)\n",
    "    C = zero(A)\n",
    "    for i in 1:n\n",
    "        for j in 1:n\n",
    "            for k in 1:n\n",
    "                C[i,j] += A[i,k] * B[k,j]\n",
    "            end\n",
    "        end\n",
    "    end\n",
    "    return C\n",
    "end"
   ]
  },
  {
   "cell_type": "code",
   "execution_count": null,
   "id": "2aefa1a8",
   "metadata": {},
   "outputs": [],
   "source": [
    "function m3(A, B, n)\n",
    "    C = zero(A)\n",
    "    for i in 1:n\n",
    "        for j in 1:n\n",
    "            a = A[i,:]\n",
    "            b = B[:,j]\n",
    "            C[i,j] = a' * b\n",
    "        end\n",
    "    end\n",
    "    return C\n",
    "end"
   ]
  },
  {
   "cell_type": "code",
   "execution_count": null,
   "id": "77f2071b",
   "metadata": {},
   "outputs": [],
   "source": [
    "function m4(A, B, n)\n",
    "    C = zero(A)\n",
    "    for i in 1:n\n",
    "        for j in 1:n\n",
    "            a = @view A[i,:]\n",
    "            b = @view B[:,j]\n",
    "            C[i,j] = a' * b\n",
    "        end\n",
    "    end\n",
    "    return C\n",
    "end"
   ]
  },
  {
   "cell_type": "code",
   "execution_count": null,
   "id": "bdfabd73",
   "metadata": {},
   "outputs": [],
   "source": [
    "function main(n::Int, t = Float64)\n",
    "    A = rand(t, n, n)\n",
    "    B = rand(t, n, n)\n",
    "    if t in [Int16, Int32, Int64]\n",
    "        A .% 1000\n",
    "        B .% 1000\n",
    "    end\n",
    "    @show t, n\n",
    "    @time C1 = m1(A, B, n)\n",
    "    @time C2 = m2(A, B, n)\n",
    "    @time C3 = m3(A, B, n)\n",
    "    @time C4 = m4(A, B, n)\n",
    "    println(n*n - sum(C1 .≈ C2), '\\t', n*n - sum(C1 .== C2))\n",
    "    println(n*n - sum(C1 .≈ C3), '\\t', n*n - sum(C1 .== C3))\n",
    "    println(n*n - sum(C1 .≈ C4), '\\t', n*n - sum(C1 .== C4))\n",
    "    return\n",
    "end"
   ]
  },
  {
   "cell_type": "code",
   "execution_count": null,
   "id": "76350958",
   "metadata": {},
   "outputs": [],
   "source": [
    "main(10, Int16)\n",
    "main(10, Int32)\n",
    "main(10, Int64)\n",
    "main(10, Float16)\n",
    "main(10, Float32)\n",
    "main(10, Float64)"
   ]
  },
  {
   "cell_type": "code",
   "execution_count": null,
   "id": "94fb4e8b",
   "metadata": {},
   "outputs": [],
   "source": [
    "main(1000, Int16)\n",
    "main(1000, Int32)\n",
    "main(1000, Int64)\n",
    "main(1000, Float16)\n",
    "main(1000, Float32)\n",
    "main(1000, Float64)"
   ]
  },
  {
   "cell_type": "code",
   "execution_count": null,
   "id": "65ed9a02",
   "metadata": {},
   "outputs": [],
   "source": []
  }
 ],
 "metadata": {
  "kernelspec": {
   "display_name": "Julia 1.6.1",
   "language": "julia",
   "name": "julia-1.6"
  },
  "language_info": {
   "file_extension": ".jl",
   "mimetype": "application/julia",
   "name": "julia",
   "version": "1.6.1"
  }
 },
 "nbformat": 4,
 "nbformat_minor": 5
}
