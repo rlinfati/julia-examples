{
 "cells": [
  {
   "cell_type": "code",
   "execution_count": null,
   "id": "e7c1fc7b",
   "metadata": {},
   "outputs": [],
   "source": [
    "using JuMP\n",
    "using GLPK"
   ]
  },
  {
   "cell_type": "code",
   "execution_count": null,
   "id": "4f79821e",
   "metadata": {},
   "outputs": [],
   "source": [
    "function ejS()\n",
    "    sudoku = JuMP.Model(GLPK.Optimizer)\n",
    "    @variable(sudoku, x[i in 1:9, j in 1:9, k in 1:9], Bin)\n",
    "    \n",
    "    @constraint(sudoku, r1[j in 1:9, k in 1:9], sum(x[:, j, k]) == 1)\n",
    "    @constraint(sudoku, r2[i in 1:9, k in 1:9], sum(x[i, :, k]) == 1)\n",
    "    @constraint(sudoku, r3[i in 1:9, j in 1:9], sum(x[i, j, :]) == 1)\n",
    "    \n",
    "    @constraint(sudoku, r4[r in 0:2, s in 0:2, k in 1:9],\n",
    "        sum(x[i+3r, j+3s, k] for i in 1:3, j in 1:3) == 1 )\n",
    "\n",
    "\n",
    "    #println(sudoku)\n",
    "    \n",
    "    parSol = [\n",
    "    5 3 0 0 7 0 0 0 0\n",
    "    6 0 0 1 9 5 0 0 0\n",
    "    0 9 8 0 0 0 0 6 0\n",
    "    8 0 0 0 6 0 0 0 3\n",
    "    4 0 0 8 0 3 0 0 1\n",
    "    7 0 0 0 2 0 0 0 6\n",
    "    0 6 0 0 0 0 2 8 0\n",
    "    0 0 0 4 1 9 0 0 5\n",
    "    0 0 0 0 8 0 0 7 9\n",
    "    ]\n",
    "    for i in 1:9, j in 1:9\n",
    "        if parSol[i, j] != 0\n",
    "            fix(x[i, j, parSol[i, j]], 1; force = true)\n",
    "        end\n",
    "    end\n",
    "    \n",
    "    JuMP.optimize!(sudoku)\n",
    "    \n",
    "    xval = round.(Int, JuMP.value.(x))\n",
    "    sol = zeros(Int, 9, 9)\n",
    "    for i in 1:9, j in 1:9, k in 1:9\n",
    "        if xval[i, j, k] ≈ 1\n",
    "            sol[i, j] = k\n",
    "        end\n",
    "    end\n",
    "    println(sol)\n",
    "\n",
    "    return\n",
    "end"
   ]
  },
  {
   "cell_type": "code",
   "execution_count": null,
   "id": "ed95311a",
   "metadata": {},
   "outputs": [],
   "source": [
    "ejS()"
   ]
  },
  {
   "cell_type": "code",
   "execution_count": null,
   "id": "58e8ded6",
   "metadata": {},
   "outputs": [],
   "source": []
  }
 ],
 "metadata": {
  "kernelspec": {
   "display_name": "Julia 1.6.1",
   "language": "julia",
   "name": "julia-1.6"
  },
  "language_info": {
   "file_extension": ".jl",
   "mimetype": "application/julia",
   "name": "julia",
   "version": "1.6.1"
  }
 },
 "nbformat": 4,
 "nbformat_minor": 5
}
