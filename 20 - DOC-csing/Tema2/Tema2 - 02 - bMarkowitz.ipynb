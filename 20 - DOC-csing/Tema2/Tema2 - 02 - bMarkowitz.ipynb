{
 "cells": [
  {
   "cell_type": "code",
   "execution_count": null,
   "id": "db06391f",
   "metadata": {},
   "outputs": [],
   "source": [
    "using JuMP\n",
    "using Ipopt\n",
    "using Statistics"
   ]
  },
  {
   "cell_type": "code",
   "execution_count": null,
   "id": "886fb1fe",
   "metadata": {},
   "outputs": [],
   "source": [
    "function ejMarkowitz()\n",
    "    stock_data = [\n",
    "    93.043 51.826 1.063;\n",
    "    84.585 52.823 0.938;\n",
    "    111.453 56.477 1.000;\n",
    "    99.525 49.805 0.938;\n",
    "    95.819 50.287 1.438;\n",
    "    114.708 51.521 1.700;\n",
    "    111.515 51.531 2.540;\n",
    "    113.211 48.664 2.390;\n",
    "    104.942 55.744 3.120;\n",
    "    99.827 47.916 2.980;\n",
    "    91.607 49.438 1.900;\n",
    "    107.937 51.336 1.750;\n",
    "    115.590 55.081 1.800;\n",
    "    ]\n",
    "    t, n = size(stock_data)\n",
    "\n",
    "    stock_returns = zeros(t-1, n)\n",
    "    for i in 1:t-1\n",
    "        stock_returns[i, :] = (stock_data[i + 1, :] .- stock_data[i, :]) ./ stock_data[i, :]\n",
    "    end\n",
    "\n",
    "    r = Statistics.mean(stock_returns, dims=1)\n",
    "    Q = Statistics.cov(stock_returns, dims=1)\n",
    "    \n",
    "    portfolio = JuMP.Model(Ipopt.Optimizer)\n",
    "    \n",
    "    @variable(portfolio, x[1:n] >= 0)\n",
    "\n",
    "    @objective(portfolio, Min, x' * Q * x)\n",
    "    \n",
    "    @constraint(portfolio, sum(x) <= 1_000)\n",
    "    @constraint(portfolio, sum(r .* x) >= 50)\n",
    "    \n",
    "    println(portfolio)\n",
    "    \n",
    "    JuMP.set_optimizer_attribute(portfolio, \"print_level\", 0)\n",
    "    JuMP.optimize!(portfolio)\n",
    "    \n",
    "    println(\"z = \", JuMP.objective_value(portfolio), \" status = \", JuMP.primal_status(portfolio))\n",
    "    Rpval = JuMP.value.(sum(x .* r))\n",
    "    Vpval = JuMP.value.(x' * Q * x)\n",
    "    DSpval = sqrt(Vpval)\n",
    "    println(\"Rp = \", Rpval)\n",
    "    println(\"DSp = \", DSpval)\n",
    "    println(\"Vp = \", Vpval)\n",
    "    xval = JuMP.value.(x)\n",
    "    xval = round.(xval, digits=4)\n",
    "    println(\"xval = \", xval)\n",
    "    \n",
    "    return\n",
    "end"
   ]
  },
  {
   "cell_type": "code",
   "execution_count": null,
   "id": "891348ae",
   "metadata": {},
   "outputs": [],
   "source": [
    "ejMarkowitz()"
   ]
  },
  {
   "cell_type": "code",
   "execution_count": null,
   "id": "b1a52b1f",
   "metadata": {},
   "outputs": [],
   "source": []
  }
 ],
 "metadata": {
  "kernelspec": {
   "display_name": "Julia 1.6.1",
   "language": "julia",
   "name": "julia-1.6"
  },
  "language_info": {
   "file_extension": ".jl",
   "mimetype": "application/julia",
   "name": "julia",
   "version": "1.6.1"
  }
 },
 "nbformat": 4,
 "nbformat_minor": 5
}
