{
 "cells": [
  {
   "cell_type": "code",
   "execution_count": null,
   "id": "c3e86942",
   "metadata": {},
   "outputs": [],
   "source": [
    "# ] add Ipopt Juniper Alpine Cbc"
   ]
  },
  {
   "cell_type": "code",
   "execution_count": null,
   "id": "6278ec42",
   "metadata": {},
   "outputs": [],
   "source": [
    "using JuMP\n",
    "using Ipopt\n",
    "using Juniper\n",
    "using Alpine\n",
    "using Cbc"
   ]
  },
  {
   "cell_type": "markdown",
   "id": "8b114170",
   "metadata": {},
   "source": [
    "# Ipopt: ... software package for large-scale nonlinear optimization. It is designed to find (local) solutions..."
   ]
  },
  {
   "cell_type": "code",
   "execution_count": null,
   "id": "27519116",
   "metadata": {},
   "outputs": [],
   "source": [
    "function ejemplo1()\n",
    "    m = Model()\n",
    "    @variable(m, x >= -10_000)\n",
    "    @NLobjective(m, Max, x^3)\n",
    "    \n",
    "    println(m)\n",
    "    set_optimizer(m, Ipopt.Optimizer)\n",
    "    set_optimizer_attribute(m, \"print_level\", 0)\n",
    "    \n",
    "    optimize!(m)\n",
    "    \n",
    "    @show value.(x)\n",
    "    return\n",
    "end\n",
    "ejemplo1()"
   ]
  },
  {
   "cell_type": "markdown",
   "id": "8fec950d",
   "metadata": {},
   "source": [
    "# Juniper: ...is a heuristic for non convex problems..."
   ]
  },
  {
   "cell_type": "code",
   "execution_count": null,
   "id": "8c181da1",
   "metadata": {},
   "outputs": [],
   "source": [
    "function ejemplo2()\n",
    "    m = Model()\n",
    "    @variable(m, x >= -10_000)\n",
    "    @NLobjective(m, Max, x^3)\n",
    "    \n",
    "    println(m)\n",
    "    \n",
    "    IpoptSolver = JuMP.optimizer_with_attributes(Ipopt.Optimizer, \"print_level\" => 0)\n",
    "    JuniperSolver = JuMP.optimizer_with_attributes(Juniper.Optimizer, \"nl_solver\"=>IpoptSolver, \"log_levels\"=>[])\n",
    "    set_optimizer(m, JuniperSolver)\n",
    "    \n",
    "    optimize!(m)\n",
    "    \n",
    "    @show value.(x)\n",
    "    return\n",
    "end\n",
    "ejemplo2()"
   ]
  },
  {
   "cell_type": "markdown",
   "id": "74286734",
   "metadata": {},
   "source": [
    "# Alpine: A global solver for nonconvex MINLPs"
   ]
  },
  {
   "cell_type": "code",
   "execution_count": null,
   "id": "ecf71c05",
   "metadata": {},
   "outputs": [],
   "source": [
    "function ejemplo3()\n",
    "    m = Model()\n",
    "    @variable(m, x >= -10_000)\n",
    "    @NLobjective(m, Max, x^3)\n",
    "    \n",
    "    println(m)\n",
    "    \n",
    "    IpoptSolver = JuMP.optimizer_with_attributes(Ipopt.Optimizer, \"print_level\" => 0)\n",
    "    CbcSolver = JuMP.optimizer_with_attributes(Cbc.Optimizer, \"logLevel\" => 0)\n",
    "    JuniperSolver = JuMP.optimizer_with_attributes(Juniper.Optimizer, \"nl_solver\"=>IpoptSolver, \"log_levels\"=>[])\n",
    "    minlpSOLVER = JuMP.optimizer_with_attributes(Alpine.Optimizer, \"nlp_solver\"=>IpoptSolver, \"mip_solver\"=>CbcSolver, \"minlp_solver\"=>JuniperSolver)\n",
    "    set_optimizer(m, minlpSOLVER)\n",
    "    \n",
    "    optimize!(m)\n",
    "    \n",
    "    @show value.(x)\n",
    "    return\n",
    "end\n",
    "ejemplo3()"
   ]
  },
  {
   "cell_type": "code",
   "execution_count": null,
   "id": "322315ff",
   "metadata": {},
   "outputs": [],
   "source": []
  },
  {
   "cell_type": "code",
   "execution_count": null,
   "id": "017ef468",
   "metadata": {},
   "outputs": [],
   "source": []
  },
  {
   "cell_type": "code",
   "execution_count": null,
   "id": "36af8b3b",
   "metadata": {},
   "outputs": [],
   "source": []
  }
 ],
 "metadata": {
  "kernelspec": {
   "display_name": "Julia 1.6.1",
   "language": "julia",
   "name": "julia-1.6"
  },
  "language_info": {
   "file_extension": ".jl",
   "mimetype": "application/julia",
   "name": "julia",
   "version": "1.6.1"
  }
 },
 "nbformat": 4,
 "nbformat_minor": 5
}
