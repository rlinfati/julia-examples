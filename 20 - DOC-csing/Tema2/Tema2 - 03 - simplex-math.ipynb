{
 "cells": [
  {
   "cell_type": "code",
   "execution_count": null,
   "id": "8476f3d3",
   "metadata": {},
   "outputs": [],
   "source": [
    "using LinearAlgebra"
   ]
  },
  {
   "cell_type": "code",
   "execution_count": null,
   "id": "cd1f61af",
   "metadata": {},
   "outputs": [],
   "source": [
    "c = [3; 5]\n",
    "b = [4; 12; 18]\n",
    "A = [1 0; 0 2; 3 2]\n",
    "m = size(A, 1)\n",
    "n = size(A, 2)\n",
    ";"
   ]
  },
  {
   "cell_type": "code",
   "execution_count": null,
   "id": "3e4dae1b",
   "metadata": {},
   "outputs": [],
   "source": [
    "cc = [c; zeros(m)]\n",
    "AA = [A I(m)]\n",
    "AA = Matrix(AA)\n",
    "x = [:x1; :x2; :h1; :h2; :h3]\n",
    ";"
   ]
  },
  {
   "cell_type": "code",
   "execution_count": null,
   "id": "5efcca46",
   "metadata": {},
   "outputs": [],
   "source": [
    "base = [3; 4; 5]\n",
    "@show x[base]\n",
    "@show B = AA[:,base]\n",
    "@show B⁻¹ = inv(B)\n",
    "@show cb = cc[base]\n",
    ";"
   ]
  },
  {
   "cell_type": "code",
   "execution_count": null,
   "id": "6edc4e2a",
   "metadata": {},
   "outputs": [],
   "source": [
    "@show rc1 = cb'*B⁻¹*A - c'\n",
    "@show rc2 = cb'*B⁻¹\n",
    "@show  z  = cb'*B⁻¹*b\n",
    "@show A1  = B⁻¹*A\n",
    "@show A2  = B⁻¹\n",
    "@show xx  = B⁻¹*b\n",
    ";"
   ]
  },
  {
   "cell_type": "code",
   "execution_count": null,
   "id": "77e8eadd",
   "metadata": {},
   "outputs": [],
   "source": [
    "vcat(\n",
    "hcat(\"\", \"|\", reshape(x, (1, n+m)) , \"|\", \"RHS\") ,\n",
    "hcat(\"--\", \"+\", \"--\", \"--\", \"--\", \"--\", \"--\", \"+\", \"---\") ,\n",
    "hcat(\"z\", \"|\", rc1, rc2, \"|\", z),\n",
    "hcat(\"--\", \"+\", \"--\", \"--\", \"--\", \"--\", \"--\", \"+\", \"---\") ,\n",
    "hcat(x[base], [\"|\"; \"|\"; \"|\"], A1, A2, [\"|\"; \"|\"; \"|\"], xx)\n",
    "    )"
   ]
  },
  {
   "cell_type": "code",
   "execution_count": null,
   "id": "582734b1",
   "metadata": {},
   "outputs": [],
   "source": []
  }
 ],
 "metadata": {
  "kernelspec": {
   "display_name": "Julia 1.6.1",
   "language": "julia",
   "name": "julia-1.6"
  },
  "language_info": {
   "file_extension": ".jl",
   "mimetype": "application/julia",
   "name": "julia",
   "version": "1.6.1"
  }
 },
 "nbformat": 4,
 "nbformat_minor": 5
}
