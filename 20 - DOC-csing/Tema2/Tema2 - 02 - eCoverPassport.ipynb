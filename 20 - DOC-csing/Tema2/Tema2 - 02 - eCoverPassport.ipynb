{
 "cells": [
  {
   "cell_type": "code",
   "execution_count": null,
   "id": "2dc8b95a",
   "metadata": {},
   "outputs": [],
   "source": [
    "# ] add DataFrames CSV"
   ]
  },
  {
   "cell_type": "code",
   "execution_count": null,
   "id": "d706df53",
   "metadata": {},
   "outputs": [],
   "source": [
    "using Downloads\n",
    "using DataFrames\n",
    "using CSV"
   ]
  },
  {
   "cell_type": "code",
   "execution_count": null,
   "id": "e7c1fc7b",
   "metadata": {},
   "outputs": [],
   "source": [
    "using JuMP\n",
    "using GLPK"
   ]
  },
  {
   "cell_type": "code",
   "execution_count": null,
   "id": "9ee174e7",
   "metadata": {},
   "outputs": [],
   "source": [
    "pim = Downloads.download(\"https://raw.githubusercontent.com/jump-dev/JuMP.jl/master/docs/src/tutorials/Getting%20started/data/passport-index-matrix.csv\")\n",
    "passportData = CSV.File(pim) |> DataFrame\n",
    "# The values in each cell are as follows:\n",
    "# * 3 = visa-free travel\n",
    "# * 2 = eTA is required\n",
    "# * 1 = visa can be obtained on arrival\n",
    "# * 0 = visa is required\n",
    "# * -1 is for all instances where passport and destination are the same"
   ]
  },
  {
   "cell_type": "code",
   "execution_count": null,
   "id": "ab5cfa6f",
   "metadata": {},
   "outputs": [],
   "source": [
    "for i in 1:DataFrames.nrow(passportData)\n",
    "    for j in 2:DataFrames.ncol(passportData)\n",
    "        if passportData[i, j] == -1 || passportData[i, j] == 3\n",
    "            passportData[i, j] = 1\n",
    "        else\n",
    "            passportData[i, j] = 0\n",
    "        end\n",
    "    end\n",
    "end\n",
    "passportData\n",
    "# The values in the cells now represent:\n",
    "# * 1 = no visa required for travel\n",
    "# * 0 = visa required for travel"
   ]
  },
  {
   "cell_type": "code",
   "execution_count": null,
   "id": "6b1b4904",
   "metadata": {},
   "outputs": [],
   "source": [
    "passportData[!,[\"Passport\",\"Chile\", \"Brazil\", \"Italy\"]]"
   ]
  },
  {
   "cell_type": "code",
   "execution_count": null,
   "id": "58fe1558",
   "metadata": {},
   "outputs": [],
   "source": [
    "countries = passportData[!,\"Passport\"]"
   ]
  },
  {
   "cell_type": "code",
   "execution_count": null,
   "id": "1f633445",
   "metadata": {},
   "outputs": [],
   "source": [
    "model = JuMP.Model(GLPK.Optimizer)\n",
    "\n",
    "@variable(model, x[j in countries], Bin)\n",
    "\n",
    "@objective(model, Min, sum(x))\n",
    "\n",
    "@constraint(model, [dest in countries], passportData[:, dest]' * x >= 1)\n",
    "\n",
    "#@constraint(model, x[\"Chile\"] == 1.0)\n",
    "#@constraint(model, x[\"United States\"] == 0.0)\n",
    ";"
   ]
  },
  {
   "cell_type": "code",
   "execution_count": null,
   "id": "96b524c5",
   "metadata": {},
   "outputs": [],
   "source": [
    "optimize!(model)\n",
    "\n",
    "if JuMP.has_values(model)\n",
    "    @show zval = JuMP.objective_value(model)\n",
    "    xval = JuMP.value.(x)\n",
    "    \n",
    "    for i in eachindex(xval)\n",
    "        if xval[i] ≈ 1.0\n",
    "            @show countries[i]\n",
    "        end\n",
    "    end\n",
    "    \n",
    "    optimalPassport = [c for c in countries if xval[c] ≈ 1.0]\n",
    "end\n",
    ";"
   ]
  },
  {
   "cell_type": "code",
   "execution_count": null,
   "id": "1755a251",
   "metadata": {},
   "outputs": [],
   "source": []
  },
  {
   "cell_type": "code",
   "execution_count": null,
   "id": "b17dc816",
   "metadata": {},
   "outputs": [],
   "source": [
    "sa = [\"Passport\"]\n",
    "push!(sa, \"Argentina\")\n",
    "push!(sa, \"Bolivia\")\n",
    "push!(sa, \"Brazil\")\n",
    "push!(sa, \"Chile\")\n",
    "push!(sa, \"Colombia\")\n",
    "push!(sa, \"Ecuador\")\n",
    "push!(sa, \"Guyana\")\n",
    "push!(sa, \"Paraguay\")\n",
    "push!(sa, \"Peru\")\n",
    "push!(sa, \"Suriname\")\n",
    "push!(sa, \"Uruguay\")\n",
    "push!(sa, \"Venezuela\")\n"
   ]
  },
  {
   "cell_type": "code",
   "execution_count": null,
   "id": "69ca347d",
   "metadata": {},
   "outputs": [],
   "source": [
    "df_rows = [v in sa for v in passportData[!, :Passport]]\n",
    "df2 = passportData[ df_rows, sa]\n",
    "# println(df2)"
   ]
  },
  {
   "cell_type": "code",
   "execution_count": null,
   "id": "2830c875",
   "metadata": {},
   "outputs": [],
   "source": [
    "cou = df2[!,\"Passport\"]\n",
    "m = JuMP.Model(GLPK.Optimizer)\n",
    "@variable(m, x[j in cou], Bin)\n",
    "@objective(m, Min, sum(x))\n",
    "@constraint(m, [dest in cou], df2[:, dest]' * x >= 1)\n",
    "@constraint(m, x[\"Chile\"] == 1.0)\n",
    "optimize!(m)\n",
    ";"
   ]
  },
  {
   "cell_type": "code",
   "execution_count": null,
   "id": "4f79821e",
   "metadata": {},
   "outputs": [],
   "source": [
    "if JuMP.has_values(m)\n",
    "    @show zval = JuMP.objective_value(m)\n",
    "    xval = JuMP.value.(x)\n",
    "    \n",
    "    for i in eachindex(xval)\n",
    "        if xval[i] ≈ 1.0\n",
    "            @show cou[i]\n",
    "        end\n",
    "    end\n",
    "    \n",
    "    optimalPassport = [c for c in cou if xval[c] ≈ 1.0]\n",
    "end\n",
    ";"
   ]
  },
  {
   "cell_type": "code",
   "execution_count": null,
   "id": "a6f0f9a6",
   "metadata": {},
   "outputs": [],
   "source": []
  }
 ],
 "metadata": {
  "kernelspec": {
   "display_name": "Julia 1.6.1",
   "language": "julia",
   "name": "julia-1.6"
  },
  "language_info": {
   "file_extension": ".jl",
   "mimetype": "application/julia",
   "name": "julia",
   "version": "1.6.1"
  }
 },
 "nbformat": 4,
 "nbformat_minor": 5
}
