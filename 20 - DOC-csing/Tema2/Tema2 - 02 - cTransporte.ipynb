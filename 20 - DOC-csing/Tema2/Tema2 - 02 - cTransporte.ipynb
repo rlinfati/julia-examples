{
 "cells": [
  {
   "cell_type": "code",
   "execution_count": null,
   "id": "e27d0e90",
   "metadata": {},
   "outputs": [],
   "source": [
    "using JuMP\n",
    "using GLPK"
   ]
  },
  {
   "cell_type": "code",
   "execution_count": null,
   "id": "31fe011f",
   "metadata": {},
   "outputs": [],
   "source": [
    "function ejTransporte()\n",
    "    Origenes = [\"Arica\", \"Bruselas\", \"Concepcion\"]\n",
    "    m = length(Origenes)\n",
    "    Oferta = [15, 25, 10]\n",
    "    \n",
    "    Destinos = [\"Alemania\", \"Brazil\", \"Colombia\", \"Dinamarca\"]\n",
    "    n = length(Destinos)\n",
    "    Demanda = [5, 15, 15, 15]\n",
    "    \n",
    "    Distancias = [10  2 20 11\n",
    "                  12  7  9 20\n",
    "                   4 14 16 18]\n",
    "    Costo = 1.0\n",
    "    \n",
    "    transp = JuMP.Model(GLPK.Optimizer)\n",
    "    @variable(transp, x[1:m, 1:n] >= 0)\n",
    "    @objective(transp, Min, sum(Costo .* Distancias .* x))\n",
    "    @constraint(transp, rOferta[i in 1:m], sum(x[i, :]) <= Oferta[i])\n",
    "    @constraint(transp, rDemanda[j in 1:n], sum(x[:, j]) >= Demanda[j])\n",
    "\n",
    "    optimize!(transp)\n",
    "    \n",
    "    if ! JuMP.has_values(transp) return end\n",
    "    \n",
    "    xval = JuMP.value.(x)\n",
    "    println(\"SOLUCION:\")\n",
    "    for i = 1:m, j in 1:n\n",
    "        if xval[i,j] ≈ 0.0 continue end\n",
    "        \n",
    "        println(\"* $(Origenes[i]) -> $(Destinos[j]) = $(xval[i, j])\")\n",
    "    end\n",
    "    return\n",
    "end"
   ]
  },
  {
   "cell_type": "code",
   "execution_count": null,
   "id": "1328aa32",
   "metadata": {},
   "outputs": [],
   "source": [
    "ejTransporte()"
   ]
  },
  {
   "cell_type": "code",
   "execution_count": null,
   "id": "4ebe2479",
   "metadata": {},
   "outputs": [],
   "source": []
  }
 ],
 "metadata": {
  "kernelspec": {
   "display_name": "Julia 1.6.1",
   "language": "julia",
   "name": "julia-1.6"
  },
  "language_info": {
   "file_extension": ".jl",
   "mimetype": "application/julia",
   "name": "julia",
   "version": "1.6.1"
  }
 },
 "nbformat": 4,
 "nbformat_minor": 5
}
