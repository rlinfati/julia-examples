{
 "cells": [
  {
   "cell_type": "code",
   "execution_count": null,
   "id": "9b28a468",
   "metadata": {},
   "outputs": [],
   "source": [
    "using JuMP\n",
    "using GLPK"
   ]
  },
  {
   "cell_type": "code",
   "execution_count": null,
   "id": "73e8dfb4",
   "metadata": {},
   "outputs": [],
   "source": [
    "function exJuMP()\n",
    "    m = JuMP.Model()\n",
    "\n",
    "    @variable(m, x1 >= 0)\n",
    "    @variable(m, x2 >= 0)\n",
    "\n",
    "    @objective(m,  Max, 3 * x1 + 5 * x2)\n",
    "\n",
    "    @constraint(m, r01,     x1          <= 4)\n",
    "    @constraint(m, r02,          2 * x2 <= 12)\n",
    "    @constraint(m, r03, 3 * x1 + 2 * x2 <= 18)\n",
    "\n",
    "    JuMP.set_optimizer(m, GLPK.Optimizer)\n",
    "    JuMP.optimize!(m)\n",
    "    println()\n",
    "    \n",
    "    @show JuMP.termination_status(m)\n",
    "    @show JuMP.primal_status(m)\n",
    "    @show JuMP.dual_status(m)\n",
    "    println()\n",
    "    \n",
    "    report = lp_sensitivity_report(m)\n",
    "    \n",
    "    @show JuMP.objective_value(m)\n",
    "    for i in JuMP.all_variables(m)\n",
    "        xval = JuMP.value(i)\n",
    "        dx_lo, dx_hi = report[i]\n",
    "        fo = JuMP.objective_function(m)\n",
    "        c = JuMP.coefficient(fo, i)\n",
    "        rc = JuMP.reduced_cost(i)\n",
    "        println(\"$i=$xval \\t -> rc = $rc \\t Δ: ($dx_lo, $dx_hi) \\t -> α: ($(c+dx_lo):$(c+dx_hi))\")\n",
    "    end\n",
    "\n",
    "    println()\n",
    "    \n",
    "    @show JuMP.dual_objective_value(m)\n",
    "    for i in list_of_constraint_types(m)\n",
    "        if i[1] == VariableRef continue end\n",
    "\n",
    "        for j in JuMP.all_constraints(m, i[1], i[2])\n",
    "            ys = JuMP.shadow_price(j) # shadow_price vs dual\n",
    "            b = JuMP.normalized_rhs(j)\n",
    "\n",
    "            dRHS_lo, dRHS_hi = report[j]\n",
    "            println(\"$j \\t -> shadow_price: $ys \\t -> Δ: ($dRHS_lo, $dRHS_hi) \\t -> α: ($(b+dRHS_lo):$(b+dRHS_hi))\")\n",
    "        end\n",
    "    end\n",
    "\n",
    "    return\n",
    "end"
   ]
  },
  {
   "cell_type": "code",
   "execution_count": null,
   "id": "57340587",
   "metadata": {},
   "outputs": [],
   "source": [
    "exJuMP()"
   ]
  },
  {
   "cell_type": "code",
   "execution_count": null,
   "id": "c12fb1e8",
   "metadata": {},
   "outputs": [],
   "source": [
    "function exDual()\n",
    "    m = JuMP.Model()\n",
    "\n",
    "    @variable(m, y1 >= 0)\n",
    "    @variable(m, y2 >= 0)\n",
    "    @variable(m, y3 >= 0)\n",
    "\n",
    "    @objective(m,  Min,  4 * y1 + 12 * y2 + 18*y3)\n",
    "\n",
    "    @constraint(m, r01,  1 * y1           +  3*y3 >=  3)\n",
    "    @constraint(m, r02,            2 * y2 +  2*y3 >=  5)\n",
    "\n",
    "    JuMP.set_optimizer(m, GLPK.Optimizer)\n",
    "    JuMP.optimize!(m)\n",
    "    \n",
    "    @show JuMP.termination_status(m)\n",
    "    @show JuMP.objective_value(m)\n",
    "    @show JuMP.value.([y1 y2 y3])\n",
    "\n",
    "    return\n",
    "end"
   ]
  },
  {
   "cell_type": "code",
   "execution_count": null,
   "id": "08c765c2",
   "metadata": {},
   "outputs": [],
   "source": [
    "exDual()"
   ]
  },
  {
   "cell_type": "code",
   "execution_count": null,
   "id": "a5bf807c",
   "metadata": {},
   "outputs": [],
   "source": []
  }
 ],
 "metadata": {
  "kernelspec": {
   "display_name": "Julia 1.6.1",
   "language": "julia",
   "name": "julia-1.6"
  },
  "language_info": {
   "file_extension": ".jl",
   "mimetype": "application/julia",
   "name": "julia",
   "version": "1.6.1"
  }
 },
 "nbformat": 4,
 "nbformat_minor": 5
}
