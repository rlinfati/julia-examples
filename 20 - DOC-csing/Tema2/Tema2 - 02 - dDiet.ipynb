{
 "cells": [
  {
   "cell_type": "code",
   "execution_count": null,
   "id": "c2911579",
   "metadata": {},
   "outputs": [],
   "source": [
    "using JuMP\n",
    "using GLPK"
   ]
  },
  {
   "cell_type": "code",
   "execution_count": null,
   "id": "63a01be7",
   "metadata": {},
   "outputs": [],
   "source": [
    "function ejDiet()\n",
    "    categories = [\"calories\", \"protein\", \"fat\", \"sodium\"]\n",
    "    category_data = Containers.DenseAxisArray([\n",
    "        1800 2200;\n",
    "        91   +Inf;\n",
    "        0    65;\n",
    "        0    1779\n",
    "        ], categories, [\"min\", \"max\"]\n",
    "    )\n",
    "\n",
    "    foods = [\n",
    "        \"hamburger\", \"chicken\", \"hot dog\", \"fries\", \"macaroni\", \"pizza\",\n",
    "        \"salad\", \"milk\", \"ice cream\"\n",
    "    ]\n",
    "    cost = Containers.DenseAxisArray(\n",
    "        [2.49, 2.89, 1.50, 1.89, 2.09, 1.99, 2.49, 0.89, 1.59],\n",
    "        foods\n",
    "    )\n",
    "    \n",
    "    food_data = Containers.DenseAxisArray([\n",
    "            410 24 26 730;\n",
    "            420 32 10 1190;\n",
    "            560 20 32 1800;\n",
    "            380  4 19 270;\n",
    "            320 12 10 930;\n",
    "            320 15 12 820;\n",
    "            320 31 12 1230;\n",
    "            100  8 2.5 125;\n",
    "            330  8 10 180\n",
    "        ], foods, categories\n",
    "    )\n",
    "    \n",
    "    model = JuMP.Model(GLPK.Optimizer)\n",
    "    \n",
    "    @variable(model, buy[foods] >= 0)\n",
    "    @variable(model, category_data[c, \"min\"] <= nutrition[c in categories] <= category_data[c, \"max\"])\n",
    "\n",
    "    @objective(model, Min, cost' * buy)\n",
    "    \n",
    "    @constraint(model, r[c in categories],\n",
    "        sum(food_data[f, c] * buy[f] for f in foods) == nutrition[c])\n",
    "\n",
    "    println(model)\n",
    "    \n",
    "    optimize!(model)\n",
    "\n",
    "    @show JuMP.termination_status(model)\n",
    "    @show JuMP.primal_status(model)\n",
    "    @show JuMP.objective_value(model)\n",
    "    buyval = JuMP.value.(buy)\n",
    "    for v in eachindex(buyval)\n",
    "        println(foods[v], \" = \", buyval[v])\n",
    "    end\n",
    "\n",
    "    return\n",
    "end"
   ]
  },
  {
   "cell_type": "code",
   "execution_count": null,
   "id": "fd429932",
   "metadata": {},
   "outputs": [],
   "source": [
    "ejDiet()"
   ]
  },
  {
   "cell_type": "code",
   "execution_count": null,
   "id": "0e578553",
   "metadata": {},
   "outputs": [],
   "source": []
  }
 ],
 "metadata": {
  "kernelspec": {
   "display_name": "Julia 1.6.1",
   "language": "julia",
   "name": "julia-1.6"
  },
  "language_info": {
   "file_extension": ".jl",
   "mimetype": "application/julia",
   "name": "julia",
   "version": "1.6.1"
  }
 },
 "nbformat": 4,
 "nbformat_minor": 5
}
