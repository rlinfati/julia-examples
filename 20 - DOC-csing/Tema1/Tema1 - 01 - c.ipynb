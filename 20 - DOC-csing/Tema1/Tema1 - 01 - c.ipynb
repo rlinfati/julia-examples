{
 "cells": [
  {
   "cell_type": "code",
   "execution_count": null,
   "id": "40b343c1",
   "metadata": {},
   "outputs": [],
   "source": [
    "Sok = \n",
    "[9  3  6  7  5  8  2  4  1\n",
    " 1  5  7  3  4  2  6  9  8\n",
    " 8  4  2  1  9  6  7  3  5\n",
    " 6  8  3  4  7  5  1  2  9\n",
    " 5  2  4  8  1  9  3  6  7\n",
    " 7  1  9  6  2  3  5  8  4\n",
    " 4  6  8  5  3  1  9  7  2\n",
    " 3  9  5  2  8  7  4  1  6\n",
    " 2  7  1  9  6  4  8  5  3];"
   ]
  },
  {
   "cell_type": "code",
   "execution_count": null,
   "id": "866de46c",
   "metadata": {},
   "outputs": [],
   "source": [
    "Sr1 = \n",
    "[1  2  3  4  5  6  7  8  9\n",
    " 1  2  3  4  5  6  7  8  9\n",
    " 1  2  3  4  5  6  7  8  9\n",
    " 1  2  3  4  5  6  7  8  9\n",
    " 1  2  3  4  5  6  7  8  9\n",
    " 1  2  3  4  5  6  7  8  9\n",
    " 1  2  3  4  5  6  7  8  9\n",
    " 1  2  3  4  5  6  7  8  9\n",
    " 1  2  3  4  5  6  7  8  9];"
   ]
  },
  {
   "cell_type": "code",
   "execution_count": null,
   "id": "81ec3054",
   "metadata": {},
   "outputs": [],
   "source": [
    "Sr2 = \n",
    "[1  1  1  1  1  1  1  1  1\n",
    " 2  2  2  2  2  2  2  2  2\n",
    " 3  3  3  3  3  3  3  3  3\n",
    " 4  4  4  4  4  4  4  4  4\n",
    " 5  5  5  5  5  5  5  5  5\n",
    " 6  6  6  6  6  6  6  6  6\n",
    " 7  7  7  7  7  7  7  7  7\n",
    " 8  8  8  8  8  8  8  8  8\n",
    " 9  9  9  9  9  9  9  9  9];"
   ]
  },
  {
   "cell_type": "code",
   "execution_count": null,
   "id": "3b888a62",
   "metadata": {},
   "outputs": [],
   "source": [
    "Sr3 = \n",
    "[1  2  3  1  2  3  1  2  3\n",
    " 4  5  6  4  5  6  4  5  6\n",
    " 7  8  9  7  8  9  7  8  9\n",
    " 1  2  3  1  2  3  1  2  3\n",
    " 4  5  6  4  5  6  4  5  6\n",
    " 7  8  9  7  8  9  7  8  9\n",
    " 1  2  3  1  2  3  1  2  3\n",
    " 4  5  6  4  5  6  4  5  6\n",
    " 7  8  9  7  8  9  7  8  9];"
   ]
  },
  {
   "cell_type": "code",
   "execution_count": null,
   "id": "45d6bebf",
   "metadata": {},
   "outputs": [],
   "source": [
    "S = Sok"
   ]
  },
  {
   "cell_type": "code",
   "execution_count": null,
   "id": "146ba21f",
   "metadata": {},
   "outputs": [],
   "source": [
    "p(i, j, n) = return S[i,j] == n\n",
    "@show p(1,1,1)\n",
    "@show p(1,1,9)"
   ]
  },
  {
   "cell_type": "code",
   "execution_count": null,
   "id": "3f6ff266",
   "metadata": {},
   "outputs": [],
   "source": [
    "@show r1 = all( [any([p(i, j, n) for j in 1:9]) for n in 1:9, i in 1:9] )\n",
    "@show r2 = all( [any([p(i, j, n) for i in 1:9]) for n in 1:9, j in 1:9] )\n",
    "@show r3 = all( [any([p(i+3r, j+3s, n) for j in 1:3, i in 1:3]) for n in 1:9, s in 0:2, r in 0:2])\n",
    "\n",
    "f_ift(p, q) = p ? q : true \n",
    "@show r4 = all([f_ift(p(i, j, n1), !p(i, j, n2)) for n1 in 1:9, n2 in 1:9, j in 1:9, i in 1:9 if n1 != n2])\n",
    "\n",
    "@show r1 & r2 & r3 & r4"
   ]
  },
  {
   "cell_type": "code",
   "execution_count": null,
   "id": "5135a26c",
   "metadata": {},
   "outputs": [],
   "source": []
  }
 ],
 "metadata": {
  "kernelspec": {
   "display_name": "Julia 1.6.1",
   "language": "julia",
   "name": "julia-1.6"
  },
  "language_info": {
   "file_extension": ".jl",
   "mimetype": "application/julia",
   "name": "julia",
   "version": "1.6.1"
  }
 },
 "nbformat": 4,
 "nbformat_minor": 5
}
