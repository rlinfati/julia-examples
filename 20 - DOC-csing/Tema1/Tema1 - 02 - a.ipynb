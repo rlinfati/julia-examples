{
 "cells": [
  {
   "cell_type": "code",
   "execution_count": null,
   "id": "4da998f6",
   "metadata": {},
   "outputs": [],
   "source": [
    "using Plots"
   ]
  },
  {
   "cell_type": "code",
   "execution_count": null,
   "id": "a8b373ed",
   "metadata": {},
   "outputs": [],
   "source": [
    "function f1(n::Int = 10)\n",
    "    c = 0.0\n",
    "    for i in 1:n\n",
    "        c += rand()\n",
    "    end\n",
    "    return c\n",
    "end"
   ]
  },
  {
   "cell_type": "code",
   "execution_count": null,
   "id": "f0f24edd",
   "metadata": {},
   "outputs": [],
   "source": [
    "function f2(n::Int = 10)\n",
    "    c = 0.0\n",
    "    for i in 1:n\n",
    "        for j in 1:n\n",
    "            c += rand()\n",
    "        end\n",
    "    end\n",
    "    return c\n",
    "end"
   ]
  },
  {
   "cell_type": "code",
   "execution_count": null,
   "id": "2020dd0e",
   "metadata": {},
   "outputs": [],
   "source": [
    "function f3(n::Int = 10)\n",
    "    c = 0.0\n",
    "    for i in 1:n\n",
    "        for j in 1:n\n",
    "            for k in 1:n\n",
    "                c += rand()\n",
    "            end\n",
    "        end\n",
    "    end\n",
    "    return c\n",
    "end"
   ]
  },
  {
   "cell_type": "code",
   "execution_count": null,
   "id": "68bb978b",
   "metadata": {},
   "outputs": [],
   "source": [
    "@time f1()\n",
    "@time f2()\n",
    "@time f3()\n",
    "nothing"
   ]
  },
  {
   "cell_type": "code",
   "execution_count": null,
   "id": "58e0cbfb",
   "metadata": {},
   "outputs": [],
   "source": [
    "@time f1(1_000)\n",
    "@time f2(1_000)\n",
    "@time f3(1_000)\n",
    "nothing"
   ]
  },
  {
   "cell_type": "code",
   "execution_count": null,
   "id": "023ea579",
   "metadata": {},
   "outputs": [],
   "source": [
    "y1 = []\n",
    "y2 = []\n",
    "y3 = []\n",
    "for i in 100:100:1200\n",
    "    a = @elapsed f1(i)\n",
    "    b = @elapsed f2(i)\n",
    "    c = @elapsed f3(i)\n",
    "    push!(y1, a)\n",
    "    push!(y2, b)\n",
    "    push!(y3, c)\n",
    "end"
   ]
  },
  {
   "cell_type": "code",
   "execution_count": null,
   "id": "6d31625c",
   "metadata": {},
   "outputs": [],
   "source": [
    "@show y1\n",
    "@show y2\n",
    "@show y3"
   ]
  },
  {
   "cell_type": "code",
   "execution_count": null,
   "id": "8c57b401",
   "metadata": {
    "scrolled": true
   },
   "outputs": [],
   "source": [
    "plot(y1)\n",
    "plot!(y2)\n",
    "plot!(y3)"
   ]
  },
  {
   "cell_type": "code",
   "execution_count": null,
   "id": "0cf14ecd",
   "metadata": {},
   "outputs": [],
   "source": []
  }
 ],
 "metadata": {
  "kernelspec": {
   "display_name": "Julia 1.6.1",
   "language": "julia",
   "name": "julia-1.6"
  },
  "language_info": {
   "file_extension": ".jl",
   "mimetype": "application/julia",
   "name": "julia",
   "version": "1.6.1"
  }
 },
 "nbformat": 4,
 "nbformat_minor": 5
}
