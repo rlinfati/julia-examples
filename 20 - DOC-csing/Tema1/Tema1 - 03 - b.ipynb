{
 "cells": [
  {
   "cell_type": "code",
   "execution_count": null,
   "id": "a1117d33",
   "metadata": {},
   "outputs": [],
   "source": [
    "#] add LightGraphs GraphPlot"
   ]
  },
  {
   "cell_type": "code",
   "execution_count": null,
   "id": "c1d24879",
   "metadata": {},
   "outputs": [],
   "source": [
    "using LinearAlgebra\n",
    "using LightGraphs\n",
    "using GraphPlot"
   ]
  },
  {
   "cell_type": "code",
   "execution_count": null,
   "id": "7db1917d",
   "metadata": {},
   "outputs": [],
   "source": [
    "g = complete_bipartite_graph(2,3)\n",
    "gplot(g, nodelabel=1:nv(g), edgelabel=1:ne(g))"
   ]
  },
  {
   "cell_type": "code",
   "execution_count": null,
   "id": "225bbd4a",
   "metadata": {},
   "outputs": [],
   "source": [
    "# https://en.wikipedia.org/wiki/Kruskal%27s_algorithm\n",
    "kruskal_mst(g)"
   ]
  },
  {
   "cell_type": "code",
   "execution_count": null,
   "id": "7ad362c0",
   "metadata": {},
   "outputs": [],
   "source": [
    "?kruskal_mst"
   ]
  },
  {
   "cell_type": "code",
   "execution_count": null,
   "id": "be0939f9",
   "metadata": {},
   "outputs": [],
   "source": [
    "# https://en.wikipedia.org/wiki/Prim%27s_algorithm\n",
    "prim_mst(g)"
   ]
  },
  {
   "cell_type": "code",
   "execution_count": null,
   "id": "917edd86",
   "metadata": {},
   "outputs": [],
   "source": [
    "?prim_mst"
   ]
  },
  {
   "cell_type": "code",
   "execution_count": null,
   "id": "95528e95",
   "metadata": {},
   "outputs": [],
   "source": [
    "# https://en.wikipedia.org/wiki/A%2A_search_algorithm\n",
    "a_star(g, 1, 2)"
   ]
  },
  {
   "cell_type": "code",
   "execution_count": null,
   "id": "26d6f3ec",
   "metadata": {},
   "outputs": [],
   "source": [
    "?a_star"
   ]
  },
  {
   "cell_type": "code",
   "execution_count": null,
   "id": "d5e42645",
   "metadata": {},
   "outputs": [],
   "source": [
    "# https://en.wikipedia.org/wiki/Dijkstra%27s_algorithm\n",
    "x = dijkstra_shortest_paths(g, 1)\n",
    "@show x.dists\n",
    "@show x.parents;"
   ]
  },
  {
   "cell_type": "code",
   "execution_count": null,
   "id": "9410927d",
   "metadata": {},
   "outputs": [],
   "source": [
    "?dijkstra_shortest_paths"
   ]
  },
  {
   "cell_type": "code",
   "execution_count": null,
   "id": "d1a34abf",
   "metadata": {},
   "outputs": [],
   "source": [
    "# https://en.wikipedia.org/wiki/Greedy_coloring\n",
    "greedy_color(g)"
   ]
  },
  {
   "cell_type": "code",
   "execution_count": null,
   "id": "d3da8e6a",
   "metadata": {},
   "outputs": [],
   "source": [
    "?greedy_color"
   ]
  },
  {
   "cell_type": "code",
   "execution_count": null,
   "id": "e7b4ab63",
   "metadata": {},
   "outputs": [],
   "source": []
  }
 ],
 "metadata": {
  "kernelspec": {
   "display_name": "Julia 1.6.1",
   "language": "julia",
   "name": "julia-1.6"
  },
  "language_info": {
   "file_extension": ".jl",
   "mimetype": "application/julia",
   "name": "julia",
   "version": "1.6.1"
  }
 },
 "nbformat": 4,
 "nbformat_minor": 5
}
