{
 "cells": [
  {
   "cell_type": "code",
   "execution_count": null,
   "id": "46108434",
   "metadata": {},
   "outputs": [],
   "source": [
    "p = true\n",
    "@show p\n",
    "@show !p\n",
    ";"
   ]
  },
  {
   "cell_type": "code",
   "execution_count": null,
   "id": "bbdeac58",
   "metadata": {},
   "outputs": [],
   "source": [
    "v = [true, false]\n",
    "for p in v\n",
    "    @show p, !p \n",
    "end"
   ]
  },
  {
   "cell_type": "code",
   "execution_count": null,
   "id": "96062e8a",
   "metadata": {},
   "outputs": [],
   "source": [
    "for p in v, q in v\n",
    "    @show p, q, p & q, p | q, p ⊻ q\n",
    "end"
   ]
  },
  {
   "cell_type": "code",
   "execution_count": null,
   "id": "ea1a7beb",
   "metadata": {},
   "outputs": [],
   "source": [
    "f_xor(p, q) = (p & !q) | (!p & q)\n",
    "for p in v, q in v\n",
    "    @show p, q, p ⊻ q, f_xor(p, q)\n",
    "end"
   ]
  },
  {
   "cell_type": "code",
   "execution_count": null,
   "id": "5f1eb7bc",
   "metadata": {},
   "outputs": [],
   "source": [
    "f_ift(p, q) = p ? q : true \n",
    "f_iff(p, q) = p == q\n",
    "for p in v, q in v\n",
    "    @show p, q, f_ift(p, q), f_iff(p, q)\n",
    "end"
   ]
  },
  {
   "cell_type": "code",
   "execution_count": null,
   "id": "9b953a12",
   "metadata": {},
   "outputs": [],
   "source": [
    "f_ift(p, q) = p ? q : true \n",
    "for p in v, q in v\n",
    "    @show p, q, f_ift(p, q), f_ift(!q, !p)\n",
    "end"
   ]
  },
  {
   "cell_type": "code",
   "execution_count": null,
   "id": "0507e675",
   "metadata": {},
   "outputs": [],
   "source": [
    "# p ? q : true "
   ]
  },
  {
   "cell_type": "code",
   "execution_count": null,
   "id": "d8601750",
   "metadata": {},
   "outputs": [],
   "source": [
    "# if p == true\n",
    "#    return q\n",
    "# else\n",
    "#    return true\n",
    "# end"
   ]
  },
  {
   "cell_type": "code",
   "execution_count": null,
   "id": "0073fbbe",
   "metadata": {},
   "outputs": [],
   "source": [
    "f_ej(p, q) = f_ift(p | !q, p & q)\n",
    "for p in v, q in v\n",
    "    @show p, q, f_ej(p, q)\n",
    "end"
   ]
  },
  {
   "cell_type": "code",
   "execution_count": null,
   "id": "42c7edd7",
   "metadata": {},
   "outputs": [],
   "source": [
    "?⊻"
   ]
  },
  {
   "cell_type": "code",
   "execution_count": null,
   "id": "af61536c",
   "metadata": {},
   "outputs": [],
   "source": []
  }
 ],
 "metadata": {
  "kernelspec": {
   "display_name": "Julia 1.6.1",
   "language": "julia",
   "name": "julia-1.6"
  },
  "language_info": {
   "file_extension": ".jl",
   "mimetype": "application/julia",
   "name": "julia",
   "version": "1.6.1"
  }
 },
 "nbformat": 4,
 "nbformat_minor": 5
}
