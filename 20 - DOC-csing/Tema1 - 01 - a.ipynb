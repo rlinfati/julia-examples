{
 "cells": [
  {
   "cell_type": "code",
   "execution_count": null,
   "id": "9ee3ef3b",
   "metadata": {},
   "outputs": [],
   "source": [
    "function f1(n::Int = 10)\n",
    "    r = 0\n",
    "    for i in 1:n\n",
    "        r += i\n",
    "    end\n",
    "    return r\n",
    "end"
   ]
  },
  {
   "cell_type": "code",
   "execution_count": null,
   "id": "3920f118",
   "metadata": {},
   "outputs": [],
   "source": [
    "f2(n::Int = 10) = sum(1:n)"
   ]
  },
  {
   "cell_type": "code",
   "execution_count": null,
   "id": "7aff34f7",
   "metadata": {},
   "outputs": [],
   "source": [
    "f3(n::Int = 10) = n*(n+1)÷2"
   ]
  },
  {
   "cell_type": "code",
   "execution_count": null,
   "id": "e4733635",
   "metadata": {},
   "outputs": [],
   "source": [
    "f4(n::Int = 10) = n*(n+1)/2"
   ]
  },
  {
   "cell_type": "code",
   "execution_count": null,
   "id": "962121f3",
   "metadata": {},
   "outputs": [],
   "source": [
    "@show f1(50_000)\n",
    "@show f2(50_000)\n",
    "@show f3(50_000)\n",
    "@show f4(50_000)"
   ]
  },
  {
   "cell_type": "code",
   "execution_count": null,
   "id": "5e064597",
   "metadata": {},
   "outputs": [],
   "source": [
    "?div"
   ]
  },
  {
   "cell_type": "code",
   "execution_count": null,
   "id": "69c63474",
   "metadata": {},
   "outputs": [],
   "source": []
  }
 ],
 "metadata": {
  "kernelspec": {
   "display_name": "Julia 1.6.1",
   "language": "julia",
   "name": "julia-1.6"
  },
  "language_info": {
   "file_extension": ".jl",
   "mimetype": "application/julia",
   "name": "julia",
   "version": "1.6.1"
  }
 },
 "nbformat": 4,
 "nbformat_minor": 5
}
