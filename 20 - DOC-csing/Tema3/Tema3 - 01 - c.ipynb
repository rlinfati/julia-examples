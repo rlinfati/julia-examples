{
 "cells": [
  {
   "cell_type": "code",
   "execution_count": null,
   "id": "40af5e1c",
   "metadata": {},
   "outputs": [],
   "source": [
    "p = 0.2"
   ]
  },
  {
   "cell_type": "code",
   "execution_count": null,
   "id": "1ae9513a",
   "metadata": {},
   "outputs": [],
   "source": [
    "x = [2; zeros(10)...]"
   ]
  },
  {
   "cell_type": "code",
   "execution_count": null,
   "id": "b01be606",
   "metadata": {},
   "outputs": [],
   "source": [
    "for i in eachindex(x)\n",
    "    @show x[i]\n",
    "    if i == length(x) continue end\n",
    "    if x[i] == 0 x[i+1] = 0; continue end\n",
    "    if x[i] == 3 x[i+1] = 3; continue end\n",
    "    x[i+1] = rand() < p ? x[i] + 1 : x[i] - 1 \n",
    "    \n",
    "end"
   ]
  },
  {
   "cell_type": "code",
   "execution_count": null,
   "id": "e9a5e286",
   "metadata": {},
   "outputs": [],
   "source": []
  }
 ],
 "metadata": {
  "kernelspec": {
   "display_name": "Julia 1.6.1",
   "language": "julia",
   "name": "julia-1.6"
  },
  "language_info": {
   "file_extension": ".jl",
   "mimetype": "application/julia",
   "name": "julia",
   "version": "1.6.1"
  }
 },
 "nbformat": 4,
 "nbformat_minor": 5
}
