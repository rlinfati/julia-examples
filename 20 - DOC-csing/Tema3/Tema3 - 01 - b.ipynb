{
 "cells": [
  {
   "cell_type": "code",
   "execution_count": null,
   "id": "aee1cb7c",
   "metadata": {},
   "outputs": [],
   "source": [
    "using Distributions"
   ]
  },
  {
   "cell_type": "code",
   "execution_count": null,
   "id": "92b06490",
   "metadata": {},
   "outputs": [],
   "source": [
    "d = Poisson()\n",
    "\n",
    "dt = [0, rand(d, 10)...]\n",
    "xt = zero(dt)\n",
    "xt[1] = 3\n",
    "\n",
    "for i in eachindex(xt)\n",
    "    @show dt[i], xt[i]\n",
    "\n",
    "    if i == length(xt) continue end\n",
    "    \n",
    "    xt[i+1] = xt[i] == 0 ? max(0, 3 - dt[i+1]) : max(0, xt[i] - dt[i+1])\n",
    "end"
   ]
  },
  {
   "cell_type": "code",
   "execution_count": null,
   "id": "a83f19c4",
   "metadata": {},
   "outputs": [],
   "source": []
  }
 ],
 "metadata": {
  "kernelspec": {
   "display_name": "Julia 1.6.1",
   "language": "julia",
   "name": "julia-1.6"
  },
  "language_info": {
   "file_extension": ".jl",
   "mimetype": "application/julia",
   "name": "julia",
   "version": "1.6.1"
  }
 },
 "nbformat": 4,
 "nbformat_minor": 5
}
