{
 "cells": [
  {
   "cell_type": "code",
   "execution_count": null,
   "id": "b01be606",
   "metadata": {},
   "outputs": [],
   "source": [
    "P = [\n",
    "    0.8 0.2\n",
    "    0.6 0.4\n",
    "]"
   ]
  },
  {
   "cell_type": "code",
   "execution_count": null,
   "id": "060a882d",
   "metadata": {},
   "outputs": [],
   "source": [
    "P^1000"
   ]
  },
  {
   "cell_type": "code",
   "execution_count": null,
   "id": "01df0946",
   "metadata": {},
   "outputs": [],
   "source": []
  },
  {
   "cell_type": "code",
   "execution_count": null,
   "id": "2382fbb1",
   "metadata": {},
   "outputs": [],
   "source": [
    "using JuMP\n",
    "using GLPK"
   ]
  },
  {
   "cell_type": "code",
   "execution_count": null,
   "id": "ad0129cf",
   "metadata": {},
   "outputs": [],
   "source": [
    "function v1(P::Array{Float64, 2}, n::Int)\n",
    "    m = Model(GLPK.Optimizer)\n",
    "    @variable(m, πⱼ[1:n] >=0)\n",
    "    @constraint(m, r[j in 1:n], πⱼ[j] == sum(πⱼ[i] * P[i,j] for i in 1:n) )\n",
    "    @constraint(m, r0, sum(πⱼ) == 1.0)\n",
    "    println(m)\n",
    "    optimize!(m)\n",
    "    @show value.(πⱼ)\n",
    "    return\n",
    "end"
   ]
  },
  {
   "cell_type": "code",
   "execution_count": null,
   "id": "50b9fbe0",
   "metadata": {},
   "outputs": [],
   "source": [
    "v1(P, 2)"
   ]
  },
  {
   "cell_type": "code",
   "execution_count": null,
   "id": "b5447a26",
   "metadata": {},
   "outputs": [],
   "source": []
  },
  {
   "cell_type": "code",
   "execution_count": null,
   "id": "517f3d1b",
   "metadata": {},
   "outputs": [],
   "source": [
    "using LinearAlgebra"
   ]
  },
  {
   "cell_type": "code",
   "execution_count": null,
   "id": "efbbaeab",
   "metadata": {},
   "outputs": [],
   "source": [
    "function v3(P::Array{Float64, 2}, n::Int)\n",
    "    A = [ P' - diagm(ones(n))\n",
    "             ones(n)' ]\n",
    "    b = [zeros(n); 1.0]\n",
    "    @show A\\b\n",
    "    return\n",
    "end"
   ]
  },
  {
   "cell_type": "code",
   "execution_count": null,
   "id": "90983d20",
   "metadata": {},
   "outputs": [],
   "source": [
    "v3(P, 2)"
   ]
  },
  {
   "cell_type": "code",
   "execution_count": null,
   "id": "047406c2",
   "metadata": {},
   "outputs": [],
   "source": []
  }
 ],
 "metadata": {
  "kernelspec": {
   "display_name": "Julia 1.6.1",
   "language": "julia",
   "name": "julia-1.6"
  },
  "language_info": {
   "file_extension": ".jl",
   "mimetype": "application/julia",
   "name": "julia",
   "version": "1.6.1"
  }
 },
 "nbformat": 4,
 "nbformat_minor": 5
}
