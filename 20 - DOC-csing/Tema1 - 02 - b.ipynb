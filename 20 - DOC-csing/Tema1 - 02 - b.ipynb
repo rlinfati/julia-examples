{
 "cells": [
  {
   "cell_type": "code",
   "execution_count": null,
   "id": "f385d338",
   "metadata": {},
   "outputs": [],
   "source": [
    "function fib_recursive(n::Int)\n",
    "    if n == 1 || n == 0\n",
    "        return n\n",
    "    end\n",
    "    return fib_recursive(n - 1) + fib_recursive(n - 2)\n",
    "end"
   ]
  },
  {
   "cell_type": "code",
   "execution_count": null,
   "id": "efd3bc87",
   "metadata": {},
   "outputs": [],
   "source": [
    "function fib_iterative(n::Int)\n",
    "    x = 0\n",
    "    y = 1\n",
    "    z = 1\n",
    "    for _ in 1:n\n",
    "        x = y\n",
    "        y = z\n",
    "        z = x + y\n",
    "    end\n",
    "    return x\n",
    "end"
   ]
  },
  {
   "cell_type": "code",
   "execution_count": null,
   "id": "fad6c4f0",
   "metadata": {},
   "outputs": [],
   "source": [
    "function fib_matrix(n::Int)\n",
    "    if n == 0\n",
    "        return 0\n",
    "    end\n",
    "    F = [1 1; 1 0]^(n - 1)\n",
    "    return F[1, 1]\n",
    "end"
   ]
  },
  {
   "cell_type": "code",
   "execution_count": null,
   "id": "a5549612",
   "metadata": {},
   "outputs": [],
   "source": [
    "function fib_magic(n::Int)\n",
    "    phi = (1 + √5) / 2\n",
    "    return round(Int, (phi^n) / √5)\n",
    "end"
   ]
  },
  {
   "cell_type": "code",
   "execution_count": null,
   "id": "8c966926",
   "metadata": {},
   "outputs": [],
   "source": [
    "function fib(n::Int)\n",
    "    println()\n",
    "    @show @elapsed val = fib_recursive(n)\n",
    "    println(\"fib_recursive = \", '\\t', val)\n",
    "\n",
    "    @show @elapsed val = fib_iterative(n)\n",
    "    println(\"fib_iterative = \", '\\t', val)\n",
    "\n",
    "    @show @elapsed val = fib_matrix(n)\n",
    "    println(\"fib_matrix    = \", '\\t', val)\n",
    "\n",
    "    @show @elapsed val = fib_magic(n)\n",
    "    println(\"fib_magic     = \", '\\t', val)\n",
    "\n",
    "    return\n",
    "end"
   ]
  },
  {
   "cell_type": "code",
   "execution_count": null,
   "id": "723a8367",
   "metadata": {},
   "outputs": [],
   "source": [
    "fib(42)"
   ]
  },
  {
   "cell_type": "code",
   "execution_count": null,
   "id": "35c598ae",
   "metadata": {},
   "outputs": [],
   "source": []
  }
 ],
 "metadata": {
  "kernelspec": {
   "display_name": "Julia 1.6.1",
   "language": "julia",
   "name": "julia-1.6"
  },
  "language_info": {
   "file_extension": ".jl",
   "mimetype": "application/julia",
   "name": "julia",
   "version": "1.6.1"
  }
 },
 "nbformat": 4,
 "nbformat_minor": 5
}
