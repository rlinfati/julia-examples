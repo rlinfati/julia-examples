{
 "cells": [
  {
   "cell_type": "code",
   "execution_count": null,
   "id": "9a92705c",
   "metadata": {},
   "outputs": [],
   "source": [
    "println(\"Hello, World!\")"
   ]
  },
  {
   "cell_type": "code",
   "execution_count": null,
   "id": "9ca69564",
   "metadata": {},
   "outputs": [],
   "source": [
    "\"Hola Mundo\""
   ]
  },
  {
   "cell_type": "code",
   "execution_count": null,
   "id": "2581501d",
   "metadata": {},
   "outputs": [],
   "source": [
    "typeof(1 + -2)"
   ]
  },
  {
   "cell_type": "code",
   "execution_count": null,
   "id": "e08e9d42",
   "metadata": {},
   "outputs": [],
   "source": [
    "typeof(1.2 - 2.3)"
   ]
  },
  {
   "cell_type": "code",
   "execution_count": null,
   "id": "e6ebf29f",
   "metadata": {},
   "outputs": [],
   "source": [
    "typeof(pi)"
   ]
  },
  {
   "cell_type": "code",
   "execution_count": null,
   "id": "9aead68f",
   "metadata": {},
   "outputs": [],
   "source": [
    "typeof(π)"
   ]
  },
  {
   "cell_type": "code",
   "execution_count": null,
   "id": "924c5971",
   "metadata": {},
   "outputs": [],
   "source": [
    "typeof(2 + 3im)"
   ]
  },
  {
   "cell_type": "code",
   "execution_count": null,
   "id": "010e9b05",
   "metadata": {},
   "outputs": [],
   "source": [
    "typeof(\"This is Julia\")"
   ]
  },
  {
   "cell_type": "code",
   "execution_count": null,
   "id": "0e506a7f",
   "metadata": {},
   "outputs": [],
   "source": [
    "[1, 2]"
   ]
  },
  {
   "cell_type": "code",
   "execution_count": null,
   "id": "780118e6",
   "metadata": {},
   "outputs": [],
   "source": [
    "typeof([1, 2])"
   ]
  },
  {
   "cell_type": "code",
   "execution_count": null,
   "id": "1ae5d3b7",
   "metadata": {},
   "outputs": [],
   "source": [
    "[1  2]"
   ]
  },
  {
   "cell_type": "code",
   "execution_count": null,
   "id": "ea8da381",
   "metadata": {},
   "outputs": [],
   "source": [
    "typeof([1  2])"
   ]
  },
  {
   "cell_type": "code",
   "execution_count": null,
   "id": "c20cca5e",
   "metadata": {},
   "outputs": [],
   "source": [
    "[1  2; 3 4]"
   ]
  },
  {
   "cell_type": "code",
   "execution_count": null,
   "id": "581f4178",
   "metadata": {},
   "outputs": [],
   "source": [
    "typeof([1  2; 3 4])"
   ]
  },
  {
   "cell_type": "code",
   "execution_count": null,
   "id": "72cc904a",
   "metadata": {},
   "outputs": [],
   "source": [
    "@show sin(2π/3)\n",
    "@show √3/2\n",
    "sin(2π/3) - √3/2"
   ]
  },
  {
   "cell_type": "code",
   "execution_count": null,
   "id": "5b14c5a9",
   "metadata": {},
   "outputs": [],
   "source": [
    "sin(2π/3) ≈ √3/2"
   ]
  },
  {
   "cell_type": "code",
   "execution_count": null,
   "id": "15d3cde5",
   "metadata": {},
   "outputs": [],
   "source": [
    "eps(Float16)"
   ]
  },
  {
   "cell_type": "code",
   "execution_count": null,
   "id": "f30c9c98",
   "metadata": {},
   "outputs": [],
   "source": [
    "eps(Float32)"
   ]
  },
  {
   "cell_type": "code",
   "execution_count": null,
   "id": "0ff93fcb",
   "metadata": {},
   "outputs": [],
   "source": [
    "eps(Float64)"
   ]
  },
  {
   "cell_type": "code",
   "execution_count": null,
   "id": "f8ee84ed",
   "metadata": {},
   "outputs": [],
   "source": [
    "A = [1 2; 3 4]"
   ]
  },
  {
   "cell_type": "code",
   "execution_count": null,
   "id": "568a3830",
   "metadata": {},
   "outputs": [],
   "source": [
    "b = [5, 6]"
   ]
  },
  {
   "cell_type": "code",
   "execution_count": null,
   "id": "2a278915",
   "metadata": {},
   "outputs": [],
   "source": [
    "x = A \\ b"
   ]
  },
  {
   "cell_type": "code",
   "execution_count": null,
   "id": "74fb6382",
   "metadata": {},
   "outputs": [],
   "source": [
    "A * x == b"
   ]
  },
  {
   "cell_type": "code",
   "execution_count": null,
   "id": "f3330aae",
   "metadata": {},
   "outputs": [],
   "source": [
    "A'"
   ]
  },
  {
   "cell_type": "code",
   "execution_count": null,
   "id": "a0333c9a",
   "metadata": {},
   "outputs": [],
   "source": [
    "A^2"
   ]
  },
  {
   "cell_type": "code",
   "execution_count": null,
   "id": "cf0de3bf",
   "metadata": {},
   "outputs": [],
   "source": [
    "inv(A)"
   ]
  },
  {
   "cell_type": "code",
   "execution_count": null,
   "id": "16bcacd9",
   "metadata": {},
   "outputs": [],
   "source": [
    "?inv"
   ]
  },
  {
   "cell_type": "code",
   "execution_count": null,
   "id": "1ef43200",
   "metadata": {},
   "outputs": [],
   "source": [
    "t = (\"hello\", 1.2, :foo)"
   ]
  },
  {
   "cell_type": "code",
   "execution_count": null,
   "id": "c6822213",
   "metadata": {},
   "outputs": [],
   "source": [
    "t[1]"
   ]
  },
  {
   "cell_type": "code",
   "execution_count": null,
   "id": "fee255af",
   "metadata": {},
   "outputs": [],
   "source": [
    "t = (word=\"hello\", num=1.2, sym=:foo)"
   ]
  },
  {
   "cell_type": "code",
   "execution_count": null,
   "id": "e82bf47b",
   "metadata": {},
   "outputs": [],
   "source": [
    "t.word"
   ]
  },
  {
   "cell_type": "code",
   "execution_count": null,
   "id": "cc4ce57a",
   "metadata": {},
   "outputs": [],
   "source": [
    "for i in 1:5\n",
    "    println(i)\n",
    "end"
   ]
  },
  {
   "cell_type": "code",
   "execution_count": null,
   "id": "6fb2058f",
   "metadata": {},
   "outputs": [],
   "source": [
    "for i in [1.2, 2.3, 3.4, 4.5, 5.6]\n",
    "           println(i)\n",
    "end"
   ]
  },
  {
   "cell_type": "code",
   "execution_count": null,
   "id": "76ae018d",
   "metadata": {},
   "outputs": [],
   "source": [
    "for i in 0:3:15\n",
    "    if i < 5\n",
    "        println(\"$(i) is less than 5\")\n",
    "    elseif i < 10\n",
    "        println(\"$(i) is less than 10\")\n",
    "    else\n",
    "        if i == 12\n",
    "            println(\"the value is 12\")\n",
    "        else\n",
    "            println(\"$(i) is bigger than 10\")\n",
    "        end\n",
    "    end\n",
    "end"
   ]
  },
  {
   "cell_type": "code",
   "execution_count": null,
   "id": "cb4c341a",
   "metadata": {},
   "outputs": [],
   "source": [
    "[i for i in 1:5]"
   ]
  },
  {
   "cell_type": "code",
   "execution_count": null,
   "id": "13d71686",
   "metadata": {},
   "outputs": [],
   "source": [
    "[i*j for i in 1:5, j in 5:10]"
   ]
  },
  {
   "cell_type": "code",
   "execution_count": null,
   "id": "176c3979",
   "metadata": {},
   "outputs": [],
   "source": [
    "[i for i in 1:10 if i%2 == 1]"
   ]
  },
  {
   "cell_type": "code",
   "execution_count": null,
   "id": "d0ac7e59",
   "metadata": {},
   "outputs": [],
   "source": [
    "function print_it(x, prefix=\"value:\")\n",
    "    println(\"$(prefix) $x\")\n",
    "end\n",
    "print_it(1.234)\n",
    "print_it(1.234, \"x =\")"
   ]
  },
  {
   "cell_type": "code",
   "execution_count": null,
   "id": "09ec7eab",
   "metadata": {},
   "outputs": [],
   "source": [
    "function mult(x; y=2.0) # despues del ; van variables opcionales con nombre pero sin orden\n",
    "    return x * y\n",
    "end\n",
    "@show mult(4.0)\n",
    "@show mult(4.0, y=5.0)"
   ]
  },
  {
   "cell_type": "code",
   "execution_count": null,
   "id": "0ca4ae47",
   "metadata": {},
   "outputs": [],
   "source": [
    "function mutability_example(a, b)\n",
    "    a[1] += 1\n",
    "    b += 1\n",
    "    return\n",
    "end\n",
    "mutable_type = [1, 2, 3]\n",
    "immutable_type = 1\n",
    "mutability_example(mutable_type, immutable_type)\n",
    "println(\"mutable_type: \", mutable_type)\n",
    "println(\"immutable_type: \", immutable_type)"
   ]
  }
 ],
 "metadata": {
  "kernelspec": {
   "display_name": "Julia 1.6.1",
   "language": "julia",
   "name": "julia-1.6"
  },
  "language_info": {
   "file_extension": ".jl",
   "mimetype": "application/julia",
   "name": "julia",
   "version": "1.6.1"
  }
 },
 "nbformat": 4,
 "nbformat_minor": 5
}
