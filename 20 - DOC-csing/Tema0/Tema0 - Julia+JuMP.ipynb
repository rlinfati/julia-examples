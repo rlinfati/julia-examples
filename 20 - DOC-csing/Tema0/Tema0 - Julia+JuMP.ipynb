{
 "cells": [
  {
   "cell_type": "code",
   "execution_count": null,
   "id": "8da864da",
   "metadata": {},
   "outputs": [],
   "source": [
    "if false\n",
    "    import Pkg\n",
    "    Pkg.add(\"JuMP\")\n",
    "    Pkg.add(\"GLPK\")\n",
    "    Pkg.add(\"Plots\")\n",
    "end"
   ]
  },
  {
   "cell_type": "code",
   "execution_count": null,
   "id": "08112ed9",
   "metadata": {},
   "outputs": [],
   "source": [
    "using JuMP\n",
    "using GLPK\n",
    "using Plots"
   ]
  },
  {
   "cell_type": "code",
   "execution_count": null,
   "id": "1113a202",
   "metadata": {},
   "outputs": [],
   "source": [
    "function ejemplo0(n::Int = 10)\n",
    "    xy = rand(n, 2) * 1_000.0\n",
    "    dist = [sqrt((xy[i, 1] - xy[j, 1])^2 + (xy[i, 2] - xy[j, 2])^2) for i in 1:n, j in 1:n]\n",
    "\n",
    "    m = JuMP.Model()\n",
    "    @variable(m, x[1:n, 1:n], Bin)\n",
    "    @variable(m, u[1:n] >= 0)\n",
    "    @objective(m, Min, sum(dist .* x))\n",
    "    @constraint(m, r0[i in 1:n], x[i, i] == 0)\n",
    "    @constraint(m, r1[i in 1:n], sum(x[i, :]) == 1)\n",
    "    @constraint(m, r2[j in 1:n], sum(x[:, j]) == 1)\n",
    "    @constraint(m, r3[i in 1:n, j in 2:n], u[i] + 1 <= u[j] + n * (1 - x[i, j]))\n",
    "\n",
    "    JuMP.set_optimizer(m, GLPK.Optimizer)\n",
    "    JuMP.optimize!(m)\n",
    "\n",
    "    tour = Int[1]\n",
    "    xval = JuMP.value.(x)\n",
    "    while true\n",
    "        push!(tour, argmax(xval[tour[end], :]))\n",
    "        if tour[end] == 1 break end\n",
    "    end\n",
    "\n",
    "    println(\"Termination Status: \", JuMP.termination_status(m))\n",
    "    println(\"Objetive Value: \", JuMP.objective_value(m))\n",
    "    println(\"Objetive Bound: \", JuMP.objective_bound(m))\n",
    "    println(\"GAP: \", JuMP.relative_gap(m))\n",
    "    println(\"Solve Time: \", JuMP.solve_time(m))\n",
    "    println(\"Tour: \", tour)\n",
    "\n",
    "    p = plot(legend=false)\n",
    "    scatter!(xy[:,1], xy[:,2], color=:blue)\n",
    "    plot!(xy[tour,1] , xy[tour,2] , color=:black)\n",
    "\n",
    "    return p\n",
    "end"
   ]
  },
  {
   "cell_type": "code",
   "execution_count": null,
   "id": "448fbe60",
   "metadata": {},
   "outputs": [],
   "source": [
    "@time ejemplo0()"
   ]
  },
  {
   "cell_type": "code",
   "execution_count": null,
   "id": "ba883c64",
   "metadata": {},
   "outputs": [],
   "source": []
  }
 ],
 "metadata": {
  "kernelspec": {
   "display_name": "Julia 1.6.1",
   "language": "julia",
   "name": "julia-1.6"
  },
  "language_info": {
   "file_extension": ".jl",
   "mimetype": "application/julia",
   "name": "julia",
   "version": "1.6.1"
  }
 },
 "nbformat": 4,
 "nbformat_minor": 5
}
