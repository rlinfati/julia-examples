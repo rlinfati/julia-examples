{
 "cells": [
  {
   "cell_type": "code",
   "execution_count": null,
   "id": "3a577a19",
   "metadata": {},
   "outputs": [],
   "source": [
    "p = 0.8"
   ]
  },
  {
   "cell_type": "code",
   "execution_count": null,
   "id": "b01be606",
   "metadata": {},
   "outputs": [],
   "source": [
    "P = [\n",
    "    1   0   0 0\n",
    "    1-p 0   p 0\n",
    "    0   1-p 0 p\n",
    "    0   0   0 1\n",
    "]"
   ]
  },
  {
   "cell_type": "code",
   "execution_count": null,
   "id": "e9a5e286",
   "metadata": {},
   "outputs": [],
   "source": [
    "P*P"
   ]
  },
  {
   "cell_type": "code",
   "execution_count": null,
   "id": "00ac8ad2",
   "metadata": {},
   "outputs": [],
   "source": [
    "P^3"
   ]
  },
  {
   "cell_type": "code",
   "execution_count": null,
   "id": "92b06490",
   "metadata": {},
   "outputs": [],
   "source": [
    "P^4"
   ]
  },
  {
   "cell_type": "code",
   "execution_count": null,
   "id": "a83f19c4",
   "metadata": {},
   "outputs": [],
   "source": [
    "P^10"
   ]
  },
  {
   "cell_type": "code",
   "execution_count": null,
   "id": "f308a10a",
   "metadata": {},
   "outputs": [],
   "source": [
    "P^100"
   ]
  },
  {
   "cell_type": "code",
   "execution_count": null,
   "id": "5253984c",
   "metadata": {},
   "outputs": [],
   "source": [
    "P^500"
   ]
  },
  {
   "cell_type": "code",
   "execution_count": null,
   "id": "060a882d",
   "metadata": {},
   "outputs": [],
   "source": [
    "P^1000"
   ]
  },
  {
   "cell_type": "code",
   "execution_count": null,
   "id": "2382fbb1",
   "metadata": {},
   "outputs": [],
   "source": []
  },
  {
   "cell_type": "code",
   "execution_count": null,
   "id": "50b9fbe0",
   "metadata": {},
   "outputs": [],
   "source": []
  }
 ],
 "metadata": {
  "kernelspec": {
   "display_name": "Julia 1.6.1",
   "language": "julia",
   "name": "julia-1.6"
  },
  "language_info": {
   "file_extension": ".jl",
   "mimetype": "application/julia",
   "name": "julia",
   "version": "1.6.1"
  }
 },
 "nbformat": 4,
 "nbformat_minor": 5
}
