{
 "cells": [
  {
   "cell_type": "code",
   "execution_count": null,
   "id": "a1117d33",
   "metadata": {},
   "outputs": [],
   "source": [
    "#] add LightGraphs GraphPlot"
   ]
  },
  {
   "cell_type": "code",
   "execution_count": null,
   "id": "c1d24879",
   "metadata": {},
   "outputs": [],
   "source": [
    "using LightGraphs\n",
    "using GraphPlot"
   ]
  },
  {
   "cell_type": "code",
   "execution_count": null,
   "id": "7db1917d",
   "metadata": {},
   "outputs": [],
   "source": [
    "G = Graph(3)\n",
    "\n",
    "add_edge!(G, 1, 2)\n",
    "add_edge!(G, 1, 3)\n",
    "add_edge!(G, 2, 3)\n",
    "\n",
    "gplot(G, nodelabel=1:nv(G), edgelabel=11:10+ne(G))"
   ]
  },
  {
   "cell_type": "code",
   "execution_count": null,
   "id": "225bbd4a",
   "metadata": {},
   "outputs": [],
   "source": [
    "A = [\n",
    "    0 1 1\n",
    "    1 0 1\n",
    "    1 1 0\n",
    "]\n",
    "Graph(A) == G"
   ]
  },
  {
   "cell_type": "code",
   "execution_count": null,
   "id": "878e66b1",
   "metadata": {},
   "outputs": [],
   "source": [
    "for v in vertices(G)\n",
    "    println(\"vertex $v\")\n",
    "end"
   ]
  },
  {
   "cell_type": "code",
   "execution_count": null,
   "id": "972ef7f1",
   "metadata": {},
   "outputs": [],
   "source": [
    "for e in edges(G)\n",
    "    u, v = src(e), dst(e)\n",
    "    println(\"edge $u - $v\")\n",
    "end"
   ]
  },
  {
   "cell_type": "code",
   "execution_count": null,
   "id": "6265b604",
   "metadata": {},
   "outputs": [],
   "source": [
    "adjacency_matrix(G)"
   ]
  },
  {
   "cell_type": "code",
   "execution_count": null,
   "id": "6b36764c",
   "metadata": {},
   "outputs": [],
   "source": [
    "gplot(complete_graph(5))"
   ]
  },
  {
   "cell_type": "code",
   "execution_count": null,
   "id": "195db230",
   "metadata": {},
   "outputs": [],
   "source": [
    "gplot(cycle_graph(5))"
   ]
  },
  {
   "cell_type": "code",
   "execution_count": null,
   "id": "8dbc3396",
   "metadata": {},
   "outputs": [],
   "source": [
    "gplot(star_graph(5))"
   ]
  },
  {
   "cell_type": "code",
   "execution_count": null,
   "id": "087e7ec5",
   "metadata": {},
   "outputs": [],
   "source": [
    "gplot(wheel_graph(5))"
   ]
  },
  {
   "cell_type": "code",
   "execution_count": null,
   "id": "fb39cd5a",
   "metadata": {},
   "outputs": [],
   "source": [
    "gplot(clique_graph(5,1))"
   ]
  },
  {
   "cell_type": "code",
   "execution_count": null,
   "id": "4435e33a",
   "metadata": {},
   "outputs": [],
   "source": [
    "gplot(clique_graph(5,3))"
   ]
  },
  {
   "cell_type": "code",
   "execution_count": null,
   "id": "44266e55",
   "metadata": {},
   "outputs": [],
   "source": [
    "gplot(binary_tree(5))"
   ]
  },
  {
   "cell_type": "code",
   "execution_count": null,
   "id": "3efa02dd",
   "metadata": {},
   "outputs": [],
   "source": [
    "gplot(complete_bipartite_graph(2,3))"
   ]
  },
  {
   "cell_type": "code",
   "execution_count": null,
   "id": "be6a3476",
   "metadata": {},
   "outputs": [],
   "source": [
    "?dijkstra_shortest_paths"
   ]
  },
  {
   "cell_type": "code",
   "execution_count": null,
   "id": "ce4ac044",
   "metadata": {},
   "outputs": [],
   "source": []
  }
 ],
 "metadata": {
  "kernelspec": {
   "display_name": "Julia 1.6.1",
   "language": "julia",
   "name": "julia-1.6"
  },
  "language_info": {
   "file_extension": ".jl",
   "mimetype": "application/julia",
   "name": "julia",
   "version": "1.6.1"
  }
 },
 "nbformat": 4,
 "nbformat_minor": 5
}
